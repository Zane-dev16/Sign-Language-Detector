{
 "cells": [
  {
   "cell_type": "markdown",
   "id": "3ad767a0-e726-4495-be76-3fdb71b01952",
   "metadata": {},
   "source": [
    "## File added through Jupyter Lab and pushed through Jupyter Lab Git Extension"
   ]
  },
  {
   "cell_type": "code",
   "execution_count": 3,
   "id": "88b2232f-048e-4613-9855-3c2d91641bb1",
   "metadata": {},
   "outputs": [],
   "source": [
    "import cv2\n",
    "import os\n",
    "import time\n",
    "import uuid"
   ]
  },
  {
   "cell_type": "code",
   "execution_count": 4,
   "id": "5a1c0263-bf77-49fd-88e1-83aa1ca3d318",
   "metadata": {
    "editable": true,
    "slideshow": {
     "slide_type": ""
    },
    "tags": []
   },
   "outputs": [
    {
     "name": "stdout",
     "output_type": "stream",
     "text": [
      "images/collectedimages\n"
     ]
    }
   ],
   "source": [
    "IMG_PATH = 'images/collectedimages'\n",
    "print(IMG_PATH)"
   ]
  },
  {
   "cell_type": "code",
   "execution_count": 5,
   "id": "01e96772-fbdc-4b28-acb9-722346a9dce8",
   "metadata": {
    "editable": true,
    "slideshow": {
     "slide_type": ""
    },
    "tags": []
   },
   "outputs": [],
   "source": [
    "labels = ['hello', 'thanks', 'yes', 'no', 'iloveyou', 'sorry']\n",
    "number_imgs = 20"
   ]
  },
  {
   "cell_type": "code",
   "execution_count": 7,
   "id": "d9bd1794-2529-49ce-9af8-ba3ab65a3244",
   "metadata": {
    "editable": true,
    "slideshow": {
     "slide_type": ""
    },
    "tags": []
   },
   "outputs": [
    {
     "name": "stdout",
     "output_type": "stream",
     "text": [
      "Collecting images for hello, 5 seconds to get into position...\n",
      "Collecting images for thanks, 5 seconds to get into position...\n",
      "Collecting images for yes, 5 seconds to get into position...\n",
      "Collecting images for no, 5 seconds to get into position...\n",
      "Collecting images for iloveyou, 5 seconds to get into position...\n",
      "Collecting images for sorry, 5 seconds to get into position...\n"
     ]
    }
   ],
   "source": [
    "cap = cv2.VideoCapture(0) # replace with index of webcam device\n",
    "for label in labels:\n",
    "    !mkdir -p {os.path.join(IMG_PATH, label)}\n",
    "    print(f\"Collecting images for {label}, 5 seconds to get into position...\")\n",
    "    time.sleep(5)\n",
    "    for _ in range(number_imgs):\n",
    "        ret, frame = cap.read()\n",
    "        if not ret:\n",
    "            print(\"Can't receive frame (stream end?). Exiting ...\")\n",
    "            break\n",
    "        else:\n",
    "            image_path = os.path.join(IMG_PATH, label, f\"{label}{uuid.uuid4()}.jpg\")\n",
    "            \n",
    "            cv2.imwrite(image_path, frame)\n",
    "            cv2.imshow('frame', frame)\n",
    "            time.sleep(2)\n",
    "            if cv2.waitKey(1) & 0xFF == ord('q'):\n",
    "                break\n",
    "    if not ret:\n",
    "        break     \n",
    "cap.release()"
   ]
  },
  {
   "cell_type": "code",
   "execution_count": null,
   "id": "79733208-7b27-486d-9fc1-0d31468c64a3",
   "metadata": {},
   "outputs": [],
   "source": []
  }
 ],
 "metadata": {
  "kernelspec": {
   "display_name": "Python 3 (ipykernel)",
   "language": "python",
   "name": "python3"
  },
  "language_info": {
   "codemirror_mode": {
    "name": "ipython",
    "version": 3
   },
   "file_extension": ".py",
   "mimetype": "text/x-python",
   "name": "python",
   "nbconvert_exporter": "python",
   "pygments_lexer": "ipython3",
   "version": "3.12.0"
  }
 },
 "nbformat": 4,
 "nbformat_minor": 5
}
